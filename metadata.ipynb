{
 "cells": [
  {
   "cell_type": "markdown",
   "metadata": {
    "tags": [
     "Title"
    ]
   },
   "source": [
    "# Dataset Title"
   ]
  },
  {
   "cell_type": "markdown",
   "metadata": {
    "tags": [
     "Description"
    ]
   },
   "source": [
    "The description is a summary of the dataset that is short enough to include in the metadata"
   ]
  },
  {
   "cell_type": "markdown",
   "metadata": {
    "tags": [
     "readme"
    ]
   },
   "source": [
    "The readme text can be any length, and is copied into the README.md file in filesystem and ZIP packages. "
   ]
  },
  {
   "cell_type": "raw",
   "metadata": {
    "tags": [
     "metadata"
    ]
   },
   "source": [
    "Name:\n",
    "Origin:\n",
    "Dataset:\n",
    "Version: 1\n",
    "Space: \n",
    "Time:\n",
    "\n",
    "Section: Documentation|Title|Description\n",
    "Homepage: http://metatab.org\n",
    "    .Title: Metatab Home Page\n",
    "    .Description: Main Metatab home page\n",
    "Documentation: https://github.com/CivicKnowledge/metatab-py/blob/master/README.rst\n",
    "    .Title: Metatab Python Package README\n",
    "    .Description: The README in the Metatab Githup repo contains the tutorial for generating this package.\n",
    "\n",
    "Section: Contacts|Email|Organization|Url\n"
   ]
  },
  {
   "cell_type": "raw",
   "metadata": {
    "tags": [
     "resources"
    ]
   },
   "source": [
    "Section: References|Name|Description|\n",
    "Reference: http://public.source.civicknowledge.com/example.com/sources/simple-example.csv\n",
    "    .Name: simple\n",
    "    .Description: A simple file\n",
    "    \n",
    "Section: Resources|Name|Description|\n"
   ]
  },
  {
   "cell_type": "code",
   "execution_count": null,
   "metadata": {
    "tags": [
     "init"
    ]
   },
   "outputs": [],
   "source": [
    "import seaborn as sns\n",
    "import metapack as mp\n",
    "import pandas as pd\n",
    "import numpy as np\n",
    "import matplotlib.pyplot as plt\n",
    "from IPython.display import display \n",
    "\n",
    "%matplotlib inline\n",
    "sns.set_context('notebook')\n",
    "mp.jupyter.init()"
   ]
  },
  {
   "cell_type": "code",
   "execution_count": null,
   "metadata": {},
   "outputs": [],
   "source": [
    "pkg = mp.open_package(this_package_name)\n",
    "pkg"
   ]
  },
  {
   "cell_type": "code",
   "execution_count": null,
   "metadata": {},
   "outputs": [],
   "source": [
    "# Code goes after metadata, before schema\n",
    "\n",
    "df = pkg.reference('simple').dataframe()\n",
    "df['rand'] = np.random.randint(0,100,len(df))\n",
    "\n",
    "df.head()\n"
   ]
  },
  {
   "cell_type": "code",
   "execution_count": null,
   "metadata": {},
   "outputs": [],
   "source": []
  },
  {
   "cell_type": "raw",
   "metadata": {
    "tags": [
     "schema"
    ]
   },
   "source": []
  }
 ],
 "metadata": {
  "celltoolbar": "Tags",
  "kernelspec": {
   "display_name": "Python 3",
   "language": "python",
   "name": "python3"
  },
  "language_info": {
   "codemirror_mode": {
    "name": "ipython",
    "version": 3
   },
   "file_extension": ".py",
   "mimetype": "text/x-python",
   "name": "python",
   "nbconvert_exporter": "python",
   "pygments_lexer": "ipython3",
   "version": "3.6.0"
  }
 },
 "nbformat": 4,
 "nbformat_minor": 2
}
